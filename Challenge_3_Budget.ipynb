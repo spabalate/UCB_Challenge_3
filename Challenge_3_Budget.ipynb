{
 "cells": [
  {
   "cell_type": "code",
   "execution_count": 1,
   "id": "93fdd6b5",
   "metadata": {},
   "outputs": [
    {
     "name": "stdout",
     "output_type": "stream",
     "text": [
      "Financial Analysis\n",
      "----------------------------\n",
      "Total Months: 86\n",
      "Total: $22564198\n",
      "Average Change: $-8214.47\n",
      "Greatest Increase in Profits: Aug-16 ($1862002)\n",
      "Greatest Decrease in Profits: Feb-14 ($-1825558)\n"
     ]
    }
   ],
   "source": [
    "import csv\n",
    "import os\n",
    "\n",
    "budget_data = os.path.join('/Users/Sam/Desktop/MY_UC_BERK/CHALLENGES/CHALLENGE_3/Starter_Code/PyBank/Resources/budget_data.csv')\n",
    "months = 0\n",
    "profit = 0\n",
    "profit_changes = []\n",
    "\n",
    "\n",
    "with open(budget_data) as csvfile:\n",
    "    csvreader = csv.reader(csvfile, delimiter=',')\n",
    "    # Skips header row\n",
    "    header = next(csvreader)\n",
    "    rows = list(csvreader)\n",
    "\n",
    "    #Initiates previous row\n",
    "    previous_profit = int(rows[0][1])\n",
    "\n",
    "    \n",
    "    for row in rows:\n",
    "        # Counts number of months\n",
    "        months += 1\n",
    "        # Gets total amount of profit/losses\n",
    "        profit += int(row[1])\n",
    "        # Calculate change in profit/losses\n",
    "        profit_change = int(row[1]) - previous_profit\n",
    "\n",
    "        # Adds changes to list\n",
    "        profit_changes.append(profit_change)\n",
    "     \n",
    "        # Sets previous profit back to current profit\n",
    "        previous_profit = int(row[1])\n",
    "    \n",
    "        \n",
    "# Calculates average change in profit/losses\n",
    "average_change = sum(profit_changes) / len(profit_changes)\n",
    "\n",
    "# Calculates greatest increase in profit and date\n",
    "greatest_increase = max(profit_changes)\n",
    "greatest_increase_date = str(rows[profit_changes.index(greatest_increase)][0])\n",
    "\n",
    "# Calculates greatest decrease in profit and date\n",
    "greatest_decrease = min(profit_changes)\n",
    "greatest_decrease_date = str(rows[profit_changes.index(greatest_decrease)][0])\n",
    "\n",
    "# Prints results\n",
    "print(\"Financial Analysis\")\n",
    "print(\"----------------------------\")\n",
    "print(f\"Total Months: {months}\")\n",
    "print(f\"Total: ${profit}\")\n",
    "print(f\"Average Change: ${round(average_change, 2)}\")\n",
    "print(f\"Greatest Increase in Profits: {greatest_increase_date} (${greatest_increase})\")\n",
    "print(f\"Greatest Decrease in Profits: {greatest_decrease_date} (${greatest_decrease})\")"
   ]
  },
  {
   "cell_type": "code",
   "execution_count": null,
   "id": "6fdd3cf5",
   "metadata": {},
   "outputs": [],
   "source": []
  }
 ],
 "metadata": {
  "kernelspec": {
   "display_name": "Python 3 (ipykernel)",
   "language": "python",
   "name": "python3"
  },
  "language_info": {
   "codemirror_mode": {
    "name": "ipython",
    "version": 3
   },
   "file_extension": ".py",
   "mimetype": "text/x-python",
   "name": "python",
   "nbconvert_exporter": "python",
   "pygments_lexer": "ipython3",
   "version": "3.10.13"
  }
 },
 "nbformat": 4,
 "nbformat_minor": 5
}
