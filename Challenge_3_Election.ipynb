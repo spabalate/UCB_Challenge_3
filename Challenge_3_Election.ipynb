{
 "cells": [
  {
   "cell_type": "code",
   "execution_count": 1,
   "id": "e9930dff",
   "metadata": {},
   "outputs": [
    {
     "name": "stdout",
     "output_type": "stream",
     "text": [
      "Election Results\n",
      "-------------------------\n",
      "Total Votes: 369711 \n",
      "-------------------------\n",
      "Charles Casper Stockham : 23.049% (85213) \n",
      "Diana DeGette : 73.812% (272892) \n",
      "Raymon Anthony Doane : 3.139% (11606) \n",
      "-------------------------\n",
      "Winner:  Diana DeGette\n",
      "-------------------------\n"
     ]
    }
   ],
   "source": [
    "import csv\n",
    "import os\n",
    "\n",
    "election_data = os.path.join('/Users/Sam/Desktop/MY_UC_BERK/CHALLENGES/CHALLENGE_3/Starter_Code/PyPoll/Resources/election_data.csv')\n",
    "#Initializing empty lists\n",
    "candidates = []\n",
    "all_candidates = []\n",
    "percent_list = []\n",
    "data = {}\n",
    "total = 0\n",
    "\n",
    "with open(election_data) as csvfile:\n",
    "    #Reads file\n",
    "    csvreader = csv.reader(csvfile)\n",
    "    #Loops through file\n",
    "    for row in csvreader:\n",
    "        total += 1\n",
    "        all_candidates.append(row[2])\n",
    "        if row [2] in candidates:\n",
    "            continue\n",
    "        else:\n",
    "            candidates.append(row[2])\n",
    "    total -= 1\n",
    "\n",
    "for i in range(1,len(candidates)):\n",
    "    count = 0\n",
    "    for j in range(len(all_candidates)):\n",
    "        if candidates [i] == all_candidates[j]:\n",
    "            count += 1\n",
    "    data[candidates[i]]= count\n",
    "\n",
    "candidates.remove(candidates[0])\n",
    "\n",
    "#Prints results\n",
    "print(\"Election Results\")\n",
    "print(\"-------------------------\")\n",
    "print(\"Total Votes: %d \" %total)\n",
    "print(\"-------------------------\")\n",
    "for i in candidates:\n",
    "    percentage = (data[i] / total) * 100\n",
    "    percent_list.append(percentage)\n",
    "    print(\"%s : %.3f%% (%d) \" % (i,percentage,data[i]))\n",
    "print(\"-------------------------\")\n",
    "print(\"Winner: \", candidates[percent_list.index(max(percent_list))])\n",
    "print(\"-------------------------\")"
   ]
  },
  {
   "cell_type": "code",
   "execution_count": null,
   "id": "c2f6a4b8",
   "metadata": {},
   "outputs": [],
   "source": []
  }
 ],
 "metadata": {
  "kernelspec": {
   "display_name": "Python 3 (ipykernel)",
   "language": "python",
   "name": "python3"
  },
  "language_info": {
   "codemirror_mode": {
    "name": "ipython",
    "version": 3
   },
   "file_extension": ".py",
   "mimetype": "text/x-python",
   "name": "python",
   "nbconvert_exporter": "python",
   "pygments_lexer": "ipython3",
   "version": "3.10.13"
  }
 },
 "nbformat": 4,
 "nbformat_minor": 5
}
